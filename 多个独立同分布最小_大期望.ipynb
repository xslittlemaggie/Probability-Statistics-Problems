{
  "nbformat": 4,
  "nbformat_minor": 0,
  "metadata": {
    "colab": {
      "name": "多个独立同分布最小_大期望.ipynb",
      "version": "0.3.2",
      "provenance": [],
      "include_colab_link": true
    },
    "kernelspec": {
      "name": "python3",
      "display_name": "Python 3"
    }
  },
  "cells": [
    {
      "cell_type": "markdown",
      "metadata": {
        "id": "view-in-github",
        "colab_type": "text"
      },
      "source": [
        "<a href=\"https://colab.research.google.com/github/xslittlemaggie/probability-statistics-problems/blob/master/%E5%A4%9A%E4%B8%AA%E7%8B%AC%E7%AB%8B%E5%90%8C%E5%88%86%E5%B8%83%E6%9C%80%E5%B0%8F_%E5%A4%A7%E6%9C%9F%E6%9C%9B.ipynb\" target=\"_parent\"><img src=\"https://colab.research.google.com/assets/colab-badge.svg\" alt=\"Open In Colab\"/></a>"
      ]
    },
    {
      "cell_type": "markdown",
      "metadata": {
        "id": "ksolXHA5VGwF",
        "colab_type": "text"
      },
      "source": [
        "## Problem 1: 多个独立同分布的均匀随机变量的最小值的期望是多少？"
      ]
    },
    {
      "cell_type": "markdown",
      "metadata": {
        "id": "_gdWCO4KwAQa",
        "colab_type": "text"
      },
      "source": [
        "\n",
        "\\begin{align}\n",
        "PDF: f(x) = \\left\\{ \\begin{array}{cc} \n",
        "                \\frac{1}{b-a} & a <= x <= b \\\\\n",
        "                0 & \\hspace{5mm} elsewhere \\\\\n",
        "                 \\end{array} \\right.\n",
        "\\end{align}\n",
        "\n",
        "\n",
        "\n",
        "\n",
        "\\begin{align}\n",
        "CDF: F(x) = \\left\\{ \\begin{array}{cc} \n",
        "                0 & x < a\\\\\n",
        "                \\frac{x - a}{b-a} & a <= x < b \\\\\n",
        "                1 & x >= b \\\\\n",
        "                 \\end{array} \\right.\n",
        "\\end{align}\n",
        "\n",
        "\n",
        "\n",
        "\n",
        "$E[x] = \\frac{a + b}{2}\\$\n",
        "\n",
        "\n",
        "$Var[x] = \\frac{b - a}{12}\\$  "
      ]
    },
    {
      "cell_type": "markdown",
      "metadata": {
        "id": "k35QbmhdVe1F",
        "colab_type": "text"
      },
      "source": [
        "假设 $Xi∼U(0,1)，i=1,2,⋯,k$\n",
        "\n",
        "那么\n",
        "  $F(X) = P (min(xi) <= x)$\n",
        "  \n",
        "  \n",
        "  最小$xi$小于等于$x$， 表示至少有一个$xi$小于等于$x$，反面是所有$xi$都大于$x$\n",
        "  \n",
        "  因此： $F(X) = 1 - P (min(xi) > x) = 1 - p(x1 > x, x2 > x, ... xn > x)$\n",
        "  \n",
        "  \n",
        "  $F(X) = 1 - p(x1 > x) * p(x2 > x) *.... p (xn > x)$\n",
        "  \n",
        "  $= 1 - ((1 - p(x1 <= x)) * (1 - p(x2 <= x)) *... (1 - p(xn <= x)))$\n",
        "  \n",
        "  $= 1 - ((1- F(x) * (1- F(x) * ... (1- F(x))$\n",
        "  \n",
        "  $= 1 - (1-F(x)) ** n$\n",
        "  \n",
        "\n",
        "根据公式， a = 0, b = 1, 可得到：\n",
        "\n",
        "$F(x) = x$\n",
        "\n",
        "$f(x) = 1$\n",
        "\n",
        "\n",
        "对 $F(X)求导得到$\n",
        "\n",
        "$f(min(x)) = n * (1-F(X)) ** (n - 1) * f(x)$\n",
        "\n",
        "$f(x) = n * (1 - x) ** (n - 1)\n",
        "\n",
        "\n",
        "最后求期望就是对0 到1 区间内对x求积分\n",
        "\n",
        "E = ∫ xf(x) = ∫ x * n *(1-x) ** (n-1) dx$\n",
        "\n",
        "$= n∫ x * (1-x)**(n-1) dx$\n",
        "\n",
        "$= n∫ (x - 1 + 1) * (1-x)**(n-1) dx$\n",
        "\n",
        "$= n∫ (x - 1)* (1-x)**(n-1) + (1-x)**(n-1) dx$\n",
        "\n",
        "$= - n∫ (1 - x)* (1-x)**(n-1) - (1-x)**(n-1) dx$\n",
        "\n",
        "$= - n∫ (1 - x)**n - (1-x)**(n-1) dx$\n",
        "\n",
        "$= - n∫ (1 - x)**n - (1-x)**(n-1) dx$\n",
        "\n",
        "$= - n [- (1 - x)**(n + 1)/(n + 1)+ (1 - x)**n/n] | 0, 1$"
      ]
    },
    {
      "cell_type": "markdown",
      "metadata": {
        "id": "DzJ3Xuikh5_A",
        "colab_type": "text"
      },
      "source": [
        "## Simulation of more than 1 independent uniform distributions"
      ]
    },
    {
      "cell_type": "code",
      "metadata": {
        "id": "GYt9VGIRs3KY",
        "colab_type": "code",
        "colab": {}
      },
      "source": [
        "import numpy as np\n",
        "import matplotlib.pyplot as plt"
      ],
      "execution_count": 0,
      "outputs": []
    },
    {
      "cell_type": "code",
      "metadata": {
        "id": "Ff5rrw9tdQ1c",
        "colab_type": "code",
        "colab": {}
      },
      "source": [
        "def uniform_generator():\n",
        "  return np.random.uniform(0, 1)"
      ],
      "execution_count": 0,
      "outputs": []
    },
    {
      "cell_type": "code",
      "metadata": {
        "id": "oTHHtISDeKG_",
        "colab_type": "code",
        "colab": {}
      },
      "source": [
        "def dist(k): # k = number of distributions\n",
        "  return [uniform_generator() for i in range(k)]\n",
        "  "
      ],
      "execution_count": 0,
      "outputs": []
    },
    {
      "cell_type": "code",
      "metadata": {
        "id": "wGSV51DWelA7",
        "colab_type": "code",
        "colab": {
          "base_uri": "https://localhost:8080/",
          "height": 304
        },
        "outputId": "66542c38-472c-4e9f-d0d8-e7f4c3b97c87"
      },
      "source": [
        "def min_simulation(n, k): # n = number of simulation\n",
        "  res = []\n",
        "  for i in range(1, n):\n",
        "    res.append(min(dist(k)))\n",
        "  print(\"The expectation of the min is {}\".format(np.mean(res)))\n",
        "  plt.hist(res, bins = 10)\n",
        "  plt.show()\n",
        "\n",
        "n = 10000\n",
        "k = 3\n",
        "\n",
        "print(\"Based on the calculation, the expectation of the min should be {}\".format(1/(k + 1)))\n",
        "min_simulation(n, k)"
      ],
      "execution_count": 8,
      "outputs": [
        {
          "output_type": "stream",
          "text": [
            "Based on the calculation, the expectation of the min should be 0.25\n",
            "The expectation of the min is 0.24971406876671826\n"
          ],
          "name": "stdout"
        },
        {
          "output_type": "display_data",
          "data": {
            "image/png": "[encoded data removed]",
            "text/plain": [
              "<Figure size 432x288 with 1 Axes>"
            ]
          },
          "metadata": {
            "tags": []
          }
        }
      ]
    },
    {
      "cell_type": "code",
      "metadata": {
        "id": "zWOxkerJfDjR",
        "colab_type": "code",
        "colab": {
          "base_uri": "https://localhost:8080/",
          "height": 286
        },
        "outputId": "815bb03c-f7ab-4636-c1fa-192950161bf4"
      },
      "source": [
        "def max_simulation(n, k): # n = number of simulation\n",
        "  res = []\n",
        "  for i in range(1, n):\n",
        "    res.append(max(dist(k)))\n",
        "  print(\"The expectation of the max is {}\".format(np.mean(res)))\n",
        "  plt.hist(res, bins = 10)\n",
        "  plt.show()\n",
        "\n",
        "n = 10000\n",
        "k = 3\n",
        "\n",
        "#print(\"Based on the calculation, the expectation of the min should be {}\".format(1/(k + 1)))\n",
        "max_simulation(n, k)\n"
      ],
      "execution_count": 9,
      "outputs": [
        {
          "output_type": "stream",
          "text": [
            "The expectation of the max is 0.7509113050148337\n"
          ],
          "name": "stdout"
        },
        {
          "output_type": "display_data",
          "data": {
            "image/png": "[encoded data removed]",
            "text/plain": [
              "<Figure size 432x288 with 1 Axes>"
            ]
          },
          "metadata": {
            "tags": []
          }
        }
      ]
    },
    {
      "cell_type": "markdown",
      "metadata": {
        "id": "D8rG9P7hYfnZ",
        "colab_type": "text"
      },
      "source": [
        "## Useful inference:\n",
        "\n",
        "URL_1 = \"http://sofasofa.io/forum_main_post.php?postid=1001602\"\n",
        "\n",
        "URL_2 = \"https://www.zhihu.com/question/27913379\""
      ]
    }
  ]
}