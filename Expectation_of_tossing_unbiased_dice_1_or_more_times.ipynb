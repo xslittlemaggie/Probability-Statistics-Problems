{
  "nbformat": 4,
  "nbformat_minor": 0,
  "metadata": {
    "colab": {
      "name": "Expectation of tossing unbiased dice 1 or more times.ipynb",
      "version": "0.3.2",
      "provenance": [],
      "include_colab_link": true
    },
    "kernelspec": {
      "name": "python3",
      "display_name": "Python 3"
    }
  },
  "cells": [
    {
      "cell_type": "markdown",
      "metadata": {
        "id": "view-in-github",
        "colab_type": "text"
      },
      "source": [
        "<a href=\"https://colab.research.google.com/github/xslittlemaggie/probability-statistics-problems/blob/master/Expectation_of_tossing_unbiased_dice_1_or_more_times.ipynb\" target=\"_parent\"><img src=\"https://colab.research.google.com/assets/colab-badge.svg\" alt=\"Open In Colab\"/></a>"
      ]
    },
    {
      "cell_type": "markdown",
      "metadata": {
        "id": "glRTkYChIEwS",
        "colab_type": "text"
      },
      "source": [
        "# Get the expectation of tossing an unbiased dice 1, 2, 3, or more times"
      ]
    },
    {
      "cell_type": "code",
      "metadata": {
        "id": "own7T3tiIf5g",
        "colab_type": "code",
        "colab": {}
      },
      "source": [
        "import random\n",
        "import matplotlib.pyplot as plt\n",
        "from collections import Counter\n",
        "import numpy as np"
      ],
      "execution_count": 0,
      "outputs": []
    },
    {
      "cell_type": "markdown",
      "metadata": {
        "id": "8K2vDXDRH5yF",
        "colab_type": "text"
      },
      "source": [
        "## Part 1: Calculation of the expections"
      ]
    },
    {
      "cell_type": "markdown",
      "metadata": {
        "id": "HKyk2tPdIk4f",
        "colab_type": "text"
      },
      "source": [
        "### Step 1: The strategy - stop when tossing 1 or above\n",
        "\n",
        "In this case, it means the player will stop no matter what he/she gets at the first round. \n",
        "\n",
        "The expectation = **3.5**"
      ]
    },
    {
      "cell_type": "code",
      "metadata": {
        "id": "bCqQkT-cI6uF",
        "colab_type": "code",
        "colab": {
          "base_uri": "https://localhost:8080/",
          "height": 35
        },
        "outputId": "40c80572-601d-4f35-cfb9-3f8aedc5c807"
      },
      "source": [
        "expectation = 1/6 * (1 + 2 + 3 + 4 + 5 + 6)\n",
        "expectation"
      ],
      "execution_count": 4,
      "outputs": [
        {
          "output_type": "execute_result",
          "data": {
            "text/plain": [
              "3.5"
            ]
          },
          "metadata": {
            "tags": []
          },
          "execution_count": 4
        }
      ]
    },
    {
      "cell_type": "markdown",
      "metadata": {
        "id": "Ddd3ypq4JXNR",
        "colab_type": "text"
      },
      "source": [
        "### Step 2: The strategy - stop when tossing 2 or above\n",
        "\n",
        "In this case, there are two conditions:\n",
        "\n",
        "- get 1 at the first round p(1) = 1/6\n",
        "  - get 1 at the second round p(1) = 1/6\n",
        "    - no matter what value at the thid round, then stop: The exp = 1/6 * 1/6 * 1/6 * (1 + 2 + 3 + 4 + 5 + 6) = **0.0972**\n",
        "  - get 2 + at the second round, then stop:  The exp = 1/6 * 1/6 * (2 + 3 + 4 + 5 + 6) = **0.5555**\n",
        "  \n",
        "- get 2 or above at the first round, then stop: The exp = p(2 + ) = 1/6 * (2 + 3 + 4 + 5 + 6) = **3.33333**\n",
        "\n",
        "\n",
        "The expectation = **3.9861111111111107**"
      ]
    },
    {
      "cell_type": "markdown",
      "metadata": {
        "id": "qdsorvHFL-5e",
        "colab_type": "text"
      },
      "source": [
        "### Step 3: The strategy - stop when tossing 3 or above\n",
        "\n",
        "In this case, there are two conditions:\n",
        "\n",
        "- get 1 or 2 at the first round p(1 or 2) = 2/6\n",
        "  - get 1 or 2 at the second round p(1 or 2) = 2/6\n",
        "    - no matter what value at the thid round, then stop: The exp = 2/6 * 2/6 * 1/6 * (1 + 2 + 3 + 4 + 5 + 6) = **0.3888**\n",
        "  - get 2 + at the second round, then stop:  The exp = 2/6 * 1/6 * (3 + 4 + 5 + 6) = **1.0**\n",
        "  \n",
        "- get 3 or above at the first round, then stop: The exp = p(3 + ) = 1/6 * (3 + 4 + 5 + 6) = **3.0**\n",
        "\n",
        "\n",
        "The expectation = **4.388888888888889**"
      ]
    },
    {
      "cell_type": "markdown",
      "metadata": {
        "id": "sbZ6wiEQNJ9Z",
        "colab_type": "text"
      },
      "source": [
        "### Step 4: The strategy - stop when tossing 4 or above\n",
        "\n",
        "In this case, there are two conditions:\n",
        "\n",
        "- get 1, 2 or 3 at the first round p(1 or 2 or 3) = 3/6\n",
        "  - get 1, 2 or 3 at the second round p(1 or 2 or 3) = 3/6\n",
        "    - no matter what value at the thid round, then stop: The exp = 3/6 * 3/6 * 1/6 * (1 + 2 + 3 + 4 + 5 + 6) = **0.875**\n",
        "  - get 4 + at the second round, then stop:  The exp = 3/6 * 1/6 * (4 + 5 + 6) = **1.25**\n",
        "  \n",
        "- get 4 or above at the first round, then stop: The exp = p(4 + ) = 1/6 * (4 + 5 + 6) = **2.5**\n",
        "\n",
        "\n",
        "The expectation = **4.625**"
      ]
    },
    {
      "cell_type": "markdown",
      "metadata": {
        "id": "4CH6_9lSOL5k",
        "colab_type": "text"
      },
      "source": [
        "### Step 5: The strategy - stop when tossing 5 or above\n",
        "\n",
        "In this case, there are two conditions:\n",
        "\n",
        "- get 1, 2, 3, or 4 at the first round p(1 or 2 or 3 or 4) = 4/6\n",
        "  - get 1, 2, 3, or 4 at the second round p(1 or 2 or 3 or 4) = 4/6\n",
        "    - no matter what value at the thid round, then stop: The exp = 4/6 * 4/6 * 1/6 * (1 + 2 + 3 + 4 + 5 + 6) = **0.875**\n",
        "  - get 5 + at the second round, then stop:  The exp = 4/6 * 1/6 * (5 + 6) = **1.2222**\n",
        "  \n",
        "- get 5 or above at the first round, then stop: The exp = p(4 + ) = 1/6 * (5 + 6) = **1.83**\n",
        "\n",
        "\n",
        "The expectation = **4.611111111111111**"
      ]
    },
    {
      "cell_type": "markdown",
      "metadata": {
        "id": "12MuIOC8O9vp",
        "colab_type": "text"
      },
      "source": [
        "### Step 6: The strategy - stop when tossing 6\n",
        "\n",
        "In this case, there are two conditions:\n",
        "\n",
        "- get 1, 2, 3, 4 or 5 at the first round p(1 or 2 or 3 or 4 or 4) = 5/6\n",
        "  - get 1, 2, 3, 4 or 5 at the second round p(1 or 2 or 3 or 4 or 5) = 5/6\n",
        "    - no matter what value at the thid round, then stop: The exp = 5/6 * 5/6 * 1/6 * (1 + 2 + 3 + 4 + 5 + 6) = **2.43**\n",
        "  - get 6 at the second round, then stop:  The exp = 5/6 * 1/6 * (6) = **0.8333**\n",
        "  \n",
        "- get 6 at the first round, then stop: The exp = p(6) = 1/6 * (6) = **1**\n",
        "\n",
        "The expectation = **4.263888888888889**\n",
        "\n"
      ]
    },
    {
      "cell_type": "markdown",
      "metadata": {
        "id": "si0ULoioHXGX",
        "colab_type": "text"
      },
      "source": [
        "## Part 2: Simulation"
      ]
    },
    {
      "cell_type": "code",
      "metadata": {
        "id": "Th_XVq75Ou7Q",
        "colab_type": "code",
        "colab": {}
      },
      "source": [
        "def unbiased_dice():\n",
        "  return random.choice(range(1, 7))"
      ],
      "execution_count": 0,
      "outputs": []
    },
    {
      "cell_type": "markdown",
      "metadata": {
        "id": "iVTFAAweiqLF",
        "colab_type": "text"
      },
      "source": [
        "### 2.1 Check whether the dice is unbiased with simulation"
      ]
    },
    {
      "cell_type": "code",
      "metadata": {
        "id": "f9HbidnCSmZ4",
        "colab_type": "code",
        "colab": {
          "base_uri": "https://localhost:8080/",
          "height": 286
        },
        "outputId": "18cae6e8-acba-4469-a7f4-768466814eff"
      },
      "source": [
        "res = [unbiased_dice() for i in range(1000000)]\n",
        "print(np.mean(res))\n",
        "plt.hist(res)\n",
        "plt.show()"
      ],
      "execution_count": 18,
      "outputs": [
        {
          "output_type": "stream",
          "text": [
            "3.49849\n"
          ],
          "name": "stdout"
        },
        {
          "output_type": "display_data",
          "data": {
            "image/png": "[encoded data removed]",
            "text/plain": [
              "<Figure size 432x288 with 1 Axes>"
            ]
          },
          "metadata": {
            "tags": []
          }
        }
      ]
    },
    {
      "cell_type": "markdown",
      "metadata": {
        "id": "JoCxDOh0HfKV",
        "colab_type": "text"
      },
      "source": [
        "### 2.2 check the simulated results of the expectation"
      ]
    },
    {
      "cell_type": "code",
      "metadata": {
        "id": "vHdwp4ceSouD",
        "colab_type": "code",
        "colab": {}
      },
      "source": [
        "def player(n, k = 3): # k indicates the number of playing\n",
        "  i = 1\n",
        "  while i < k:\n",
        "    val = unbiased_dice()\n",
        "    if val >= n:\n",
        "      #return(i)\n",
        "      return val\n",
        "    \n",
        "    elif val < n:\n",
        "      i += 1\n",
        "      val = unbiased_dice()\n",
        "  if i == k:\n",
        "    #return(i)\n",
        "    return unbiased_dice()"
      ],
      "execution_count": 0,
      "outputs": []
    },
    {
      "cell_type": "code",
      "metadata": {
        "id": "ZDHfdCLzZeJ-",
        "colab_type": "code",
        "colab": {
          "base_uri": "https://localhost:8080/",
          "height": 35
        },
        "outputId": "0c0c5d82-041f-4fc8-da38-17e2893ca66e"
      },
      "source": [
        "Counter([player(3, k = 3) for i in range(10000)])"
      ],
      "execution_count": 29,
      "outputs": [
        {
          "output_type": "execute_result",
          "data": {
            "text/plain": [
              "Counter({1: 179, 2: 191, 3: 2389, 4: 2396, 5: 2457, 6: 2388})"
            ]
          },
          "metadata": {
            "tags": []
          },
          "execution_count": 29
        }
      ]
    },
    {
      "cell_type": "code",
      "metadata": {
        "id": "HFJ2G8Z2Vce9",
        "colab_type": "code",
        "colab": {
          "base_uri": "https://localhost:8080/",
          "height": 286
        },
        "outputId": "44054443-7727-4980-ef71-55b0124cac23"
      },
      "source": [
        "def simulaiton(n):\n",
        "  res_1 = np.mean([player(1) for i in range(n)])\n",
        "  res_2 = np.mean([player(2) for i in range(n)])\n",
        "  res_3 = np.mean([player(3) for i in range(n)])\n",
        "  res_4 = np.mean([player(4) for i in range(n)])\n",
        "  res_5 = np.mean([player(5) for i in range(n)])\n",
        "  res_6 = np.mean([player(6) for i in range(n)])\n",
        "  print([res_1, res_2, res_3, res_4, res_5, res_6])\n",
        "  plt.plot([1, 2, 3, 4, 5, 6], [res_1, res_2, res_3, res_4, res_5, res_6])\n",
        "  \n",
        "  plt.show()\n",
        "simulaiton(1000000)"
      ],
      "execution_count": 30,
      "outputs": [
        {
          "output_type": "stream",
          "text": [
            "[3.499, 3.985536, 4.388751, 4.625408, 4.610778, 4.262862]\n"
          ],
          "name": "stdout"
        },
        {
          "output_type": "display_data",
          "data": {
            "image/png": "[encoded data removed]",
            "text/plain": [
              "<Figure size 432x288 with 1 Axes>"
            ]
          },
          "metadata": {
            "tags": []
          }
        }
      ]
    },
    {
      "cell_type": "markdown",
      "metadata": {
        "id": "G-Xi2eFjIPg_",
        "colab_type": "text"
      },
      "source": [
        "## Part 3: simulation when tossing different number of times"
      ]
    },
    {
      "cell_type": "code",
      "metadata": {
        "id": "M86nkoqOLiTn",
        "colab_type": "code",
        "colab": {
          "base_uri": "https://localhost:8080/",
          "height": 521
        },
        "outputId": "ba2324d0-f361-46ba-fb7c-07e2346887e7"
      },
      "source": [
        "n = 100000\n",
        "plt.figure(figsize = (14, 8))\n",
        "for i in range(10):\n",
        "  player(n, k = i)\n",
        "  plt.plot([1, 2, 3, 4, 5, 6], simulaiton(n), label = \"K =\" + str(i))\n",
        "  plt.legend()\n",
        "plt.title(\"The expectation of tossing K number of dice\", size = 18, color = \"blue\")\n",
        "plt.ylabel(\"The expectation\", size = 14, color = \"red\")\n",
        "plt.xlabel(\"The threshold, stop when value >= threshold\", size = 14, color = \"red\")\n",
        "plt.show()"
      ],
      "execution_count": 65,
      "outputs": [
        {
          "output_type": "display_data",
          "data": {
            "image/png": "[encoded data removed]",
            "text/plain": [
              "<Figure size 1008x576 with 1 Axes>"
            ]
          },
          "metadata": {
            "tags": []
          }
        }
      ]
    },
    {
      "cell_type": "markdown",
      "metadata": {
        "id": "g8BQ9sc6P7ZT",
        "colab_type": "text"
      },
      "source": [
        "Thus, from the result, the largest expectation is about 4.26 when threshold = 4, and the smallest expectation is about 3.5 when threshold = 1"
      ]
    },
    {
      "cell_type": "markdown",
      "metadata": {
        "id": "Z4LCn_gF87uk",
        "colab_type": "text"
      },
      "source": [
        "More probability problems\n",
        "url_1 = \"https://www.zhihu.com/question/62404167\"\n",
        "\n",
        "url_2 = \"https://blog.csdn.net/beiyeqingteng/article/details/7539366\" **dice**\n",
        "\n",
        "url_3 = \"https://blog.csdn.net/hilyoo/article/details/4445858\"\n",
        "\n",
        "url_4 = \"https://blog.csdn.net/dengm155/article/details/52660320\"\n",
        "\n",
        "url_5 = \"https://www.33iq.com/topic/9589/0/\"经典🎲问题\n",
        "\n",
        "url_ 6 = \"https://www.matrix67.com/blog/archives/6665\""
      ]
    },
    {
      "cell_type": "code",
      "metadata": {
        "id": "4zpj_xnR-plQ",
        "colab_type": "code",
        "colab": {}
      },
      "source": [
        ""
      ],
      "execution_count": 0,
      "outputs": []
    }
  ]
}