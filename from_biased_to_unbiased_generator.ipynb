{
  "nbformat": 4,
  "nbformat_minor": 0,
  "metadata": {
    "colab": {
      "name": "from biased to unbiased generator.ipynb",
      "version": "0.3.2",
      "provenance": [],
      "include_colab_link": true
    },
    "kernelspec": {
      "name": "python3",
      "display_name": "Python 3"
    }
  },
  "cells": [
    {
      "cell_type": "markdown",
      "metadata": {
        "id": "view-in-github",
        "colab_type": "text"
      },
      "source": [
        "<a href=\"https://colab.research.google.com/github/xslittlemaggie/probability-statistics-problems/blob/master/from_biased_to_unbiased_generator.ipynb\" target=\"_parent\"><img src=\"https://colab.research.google.com/assets/colab-badge.svg\" alt=\"Open In Colab\"/></a>"
      ]
    },
    {
      "cell_type": "code",
      "metadata": {
        "id": "wlOCeUNYFyne",
        "colab_type": "code",
        "colab": {}
      },
      "source": [
        "import random\n",
        "import matplotlib.pyplot as plt\n",
        "import numpy as np\n",
        "import pandas as pd\n",
        "\n",
        "from itertools import permutations\n",
        "from collections import Counter"
      ],
      "execution_count": 0,
      "outputs": []
    },
    {
      "cell_type": "code",
      "metadata": {
        "id": "nYRGcEwNUTmQ",
        "colab_type": "code",
        "colab": {
          "base_uri": "https://localhost:8080/",
          "height": 35
        },
        "outputId": "180bd425-e4e9-4e80-b479-3d62534a2a23"
      },
      "source": [
        "def generator():\n",
        "  val = random.choices([0, 1], k = 1, weights=[0.7, 0.3])\n",
        "  return val[0]\n",
        "generator()"
      ],
      "execution_count": 2,
      "outputs": [
        {
          "output_type": "execute_result",
          "data": {
            "text/plain": [
              "0"
            ]
          },
          "metadata": {
            "tags": []
          },
          "execution_count": 2
        }
      ]
    },
    {
      "cell_type": "code",
      "metadata": {
        "id": "8eLt-PU8UfJe",
        "colab_type": "code",
        "colab": {
          "base_uri": "https://localhost:8080/",
          "height": 426
        },
        "outputId": "3adeb619-889e-4f91-9122-571701558706"
      },
      "source": [
        "def simulation(n):\n",
        "  res = [generator() for i in range(n)]\n",
        "  generate_0 = [i for i in res if i == 0]\n",
        "  generate_1 = [i for i in res if i == 1]\n",
        "  \n",
        "  plt.figure(figsize = (10, 6))\n",
        "  plt.hist(res)\n",
        "  plt.title(\"The distribution of the simulated results\", size = 16, color = \"b\")\n",
        "  plt.ylabel(\"Frequency\")\n",
        "  plt.ylabel(\"Frequency\", size = 12)\n",
        "  plt.xlabel(\"Generated values\", size = 12)\n",
        "  plt.xticks([0, 1])\n",
        "  plt.show()\n",
        "  return len(generate_0)/n, len(generate_1)/n\n",
        "simulation(1000)\n",
        "  "
      ],
      "execution_count": 16,
      "outputs": [
        {
          "output_type": "display_data",
          "data": {
            "image/png": "[encoded data removed]",
            "text/plain": [
              "<Figure size 720x432 with 1 Axes>"
            ]
          },
          "metadata": {
            "tags": []
          }
        },
        {
          "output_type": "execute_result",
          "data": {
            "text/plain": [
              "(0.723, 0.277)"
            ]
          },
          "metadata": {
            "tags": []
          },
          "execution_count": 16
        }
      ]
    },
    {
      "cell_type": "code",
      "metadata": {
        "id": "tIF6TlL6efor",
        "colab_type": "code",
        "colab": {
          "base_uri": "https://localhost:8080/",
          "height": 35
        },
        "outputId": "dc1690fc-52f7-41be-8a37-d64dcc849579"
      },
      "source": [
        "def generator_2():\n",
        "  res = [generator() for i in range(2)]\n",
        "  while res == [0, 0] or res == [1, 1]:\n",
        "    res = [generator() for i in range(2)]\n",
        "  if res == [0, 1]:\n",
        "    return 0\n",
        "  elif res == [1, 0]:\n",
        "    return 1\n",
        "  \n",
        "generator_2()    "
      ],
      "execution_count": 4,
      "outputs": [
        {
          "output_type": "execute_result",
          "data": {
            "text/plain": [
              "0"
            ]
          },
          "metadata": {
            "tags": []
          },
          "execution_count": 4
        }
      ]
    },
    {
      "cell_type": "code",
      "metadata": {
        "id": "91BbLSEkeaDx",
        "colab_type": "code",
        "colab": {
          "base_uri": "https://localhost:8080/",
          "height": 426
        },
        "outputId": "b3d37f55-5676-4af6-d2ab-1ceb0f996699"
      },
      "source": [
        "def simulation(n):\n",
        "  res = [generator_2() for i in range(n)]\n",
        "  generate_0 = [i for i in res if i == 0]\n",
        "  generate_1 = [i for i in res if i == 1]\n",
        "  \n",
        "  plt.figure(figsize = (10, 6))\n",
        "  plt.hist(res)\n",
        "  plt.title(\"The distribution of the simulated results\", size = 16, color = \"b\")\n",
        "  plt.ylabel(\"Frequency\", size = 12)\n",
        "  plt.xlabel(\"Generated values\", size = 12)\n",
        "  plt.xticks([0, 1])\n",
        "  plt.show()\n",
        "  return len(generate_0)/n, len(generate_1)/n\n",
        "simulation(1000)"
      ],
      "execution_count": 17,
      "outputs": [
        {
          "output_type": "display_data",
          "data": {
            "image/png": "[encoded data removed]",
            "text/plain": [
              "<Figure size 720x432 with 1 Axes>"
            ]
          },
          "metadata": {
            "tags": []
          }
        },
        {
          "output_type": "execute_result",
          "data": {
            "text/plain": [
              "(0.482, 0.518)"
            ]
          },
          "metadata": {
            "tags": []
          },
          "execution_count": 17
        }
      ]
    },
    {
      "cell_type": "code",
      "metadata": {
        "id": "1mtttT0WpLkL",
        "colab_type": "code",
        "colab": {
          "base_uri": "https://localhost:8080/",
          "height": 155
        },
        "outputId": "c512318a-673f-4e13-c972-f929b3ba2ef7"
      },
      "source": [
        "perm = set(permutations([0, 1, 0, 1, 0, 1], 3))\n",
        "for i in list(perm): \n",
        "    print (i) "
      ],
      "execution_count": 6,
      "outputs": [
        {
          "output_type": "stream",
          "text": [
            "(0, 1, 1)\n",
            "(1, 1, 0)\n",
            "(1, 1, 1)\n",
            "(1, 0, 0)\n",
            "(0, 0, 1)\n",
            "(1, 0, 1)\n",
            "(0, 0, 0)\n",
            "(0, 1, 0)\n"
          ],
          "name": "stdout"
        }
      ]
    },
    {
      "cell_type": "code",
      "metadata": {
        "id": "zPZubqfIm4KF",
        "colab_type": "code",
        "colab": {
          "base_uri": "https://localhost:8080/",
          "height": 35
        },
        "outputId": "99bb09af-b286-4f4d-f4fa-a06f330556d8"
      },
      "source": [
        "\n",
        "def generator_6():\n",
        "  perm = list(set(permutations([0, 1, 0, 1, 0, 1], 3)))\n",
        "  perm = [list(i) for i in perm]\n",
        "  res = [generator_2() for i in range(3)]\n",
        "  for i in range(len(perm)): \n",
        "    while res == perm[0] or res == perm[1]:\n",
        "      res = [generator() for i in range(3)]\n",
        "    if res == perm[2]:\n",
        "      return 1\n",
        "    elif res == perm[3]:\n",
        "      return 2\n",
        "    elif res == perm[4]:\n",
        "      return 3\n",
        "    elif res == perm[5]:\n",
        "      return 4\n",
        "    elif res == perm[6]:\n",
        "      return 5\n",
        "    elif res == perm[7]:\n",
        "      return 6\n",
        "generator_6()    "
      ],
      "execution_count": 7,
      "outputs": [
        {
          "output_type": "execute_result",
          "data": {
            "text/plain": [
              "6"
            ]
          },
          "metadata": {
            "tags": []
          },
          "execution_count": 7
        }
      ]
    },
    {
      "cell_type": "code",
      "metadata": {
        "id": "ZMK4xWRjnnM3",
        "colab_type": "code",
        "colab": {
          "base_uri": "https://localhost:8080/",
          "height": 444
        },
        "outputId": "43a39770-1af5-4d86-b7b4-f08d0b873ba9"
      },
      "source": [
        "def simulation(n):\n",
        "  res = [generator_6() for i in range(n)]\n",
        "  print(len(res))\n",
        "  nums = Counter(res)\n",
        "  generate_1 = [i for i in res if i == 1]\n",
        "  generate_2 = [i for i in res if i == 2]\n",
        "  generate_3 = [i for i in res if i == 3]\n",
        "  generate_4 = [i for i in res if i == 4]\n",
        "  generate_5 = [i for i in res if i == 5]\n",
        "  generate_6 = [i for i in res if i == 6]\n",
        "  \n",
        "  \n",
        "  plt.figure(figsize = (8, 6))\n",
        "  plt.hist(res)\n",
        "  plt.title(\"The distribution of the simulated results\", size = 16, color = \"b\")\n",
        "  plt.ylabel(\"Frequency\", size = 12)\n",
        "  plt.xlabel(\"Generated values\", size = 12)\n",
        "  #plt.xticks(range(1, 8))\n",
        "  plt.show()\n",
        "  return len(generate_1)/n, len(generate_2)/n, len(generate_3)/n, len(generate_4)/n, len(generate_5)/n, len(generate_6)/n\n",
        "simulation(100000)"
      ],
      "execution_count": 25,
      "outputs": [
        {
          "output_type": "stream",
          "text": [
            "100000\n"
          ],
          "name": "stdout"
        },
        {
          "output_type": "display_data",
          "data": {
            "image/png": "[encoded data removed]",
            "text/plain": [
              "<Figure size 576x432 with 1 Axes>"
            ]
          },
          "metadata": {
            "tags": []
          }
        },
        {
          "output_type": "execute_result",
          "data": {
            "text/plain": [
              "(0.13212, 0.16597, 0.1667, 0.14219, 0.22405, 0.16897)"
            ]
          },
          "metadata": {
            "tags": []
          },
          "execution_count": 25
        }
      ]
    },
    {
      "cell_type": "code",
      "metadata": {
        "id": "4fbv4qG1svwO",
        "colab_type": "code",
        "colab": {
          "base_uri": "https://localhost:8080/",
          "height": 409
        },
        "outputId": "71215dc2-a953-4948-eecd-d44d9af44d6c"
      },
      "source": [
        "res = random.choices(range(1, 7), k = 100000)\n",
        "plt.figure(figsize = (8, 6))\n",
        "plt.hist(res)\n",
        "plt.title(\"The distribution of the simulated results\", size = 16, color = \"b\")\n",
        "plt.ylabel(\"Frequency\", size = 12)\n",
        "plt.xlabel(\"Generated values\", size = 12)\n",
        "plt.xticks()\n",
        "plt.show()\n"
      ],
      "execution_count": 26,
      "outputs": [
        {
          "output_type": "display_data",
          "data": {
            "image/png": "[encoded data removed]",
            "text/plain": [
              "<Figure size 576x432 with 1 Axes>"
            ]
          },
          "metadata": {
            "tags": []
          }
        }
      ]
    }
  ]
}