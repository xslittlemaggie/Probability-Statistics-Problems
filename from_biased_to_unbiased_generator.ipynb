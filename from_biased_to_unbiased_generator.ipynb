{
  "nbformat": 4,
  "nbformat_minor": 0,
  "metadata": {
    "colab": {
      "name": "from biased to unbiased generator.ipynb",
      "version": "0.3.2",
      "provenance": [],
      "include_colab_link": true
    },
    "kernelspec": {
      "name": "python3",
      "display_name": "Python 3"
    }
  },
  "cells": [
    {
      "cell_type": "markdown",
      "metadata": {
        "id": "view-in-github",
        "colab_type": "text"
      },
      "source": [
        "<a href=\"https://colab.research.google.com/github/xslittlemaggie/probability-statistics-problems/blob/master/from_biased_to_unbiased_generator.ipynb\" target=\"_parent\"><img src=\"https://colab.research.google.com/assets/colab-badge.svg\" alt=\"Open In Colab\"/></a>"
      ]
    },
    {
      "cell_type": "code",
      "metadata": {
        "id": "wlOCeUNYFyne",
        "colab_type": "code",
        "colab": {}
      },
      "source": [
        "import random\n",
        "import matplotlib.pyplot as plt\n",
        "import numpy as np\n",
        "import pandas as pd\n",
        "\n",
        "from itertools import permutations\n",
        "from collections import Counter"
      ],
      "execution_count": 0,
      "outputs": []
    },
    {
      "cell_type": "code",
      "metadata": {
        "id": "nYRGcEwNUTmQ",
        "colab_type": "code",
        "outputId": "3c2ff6ba-e83a-405b-bcc5-d7aba1e635cf",
        "colab": {
          "base_uri": "https://localhost:8080/",
          "height": 35
        }
      },
      "source": [
        "def generator():\n",
        "  val = random.choices([0, 1], k = 1, weights=[0.7, 0.3])\n",
        "  return val[0]\n",
        "generator()"
      ],
      "execution_count": 2,
      "outputs": [
        {
          "output_type": "execute_result",
          "data": {
            "text/plain": [
              "0"
            ]
          },
          "metadata": {
            "tags": []
          },
          "execution_count": 2
        }
      ]
    },
    {
      "cell_type": "code",
      "metadata": {
        "id": "8eLt-PU8UfJe",
        "colab_type": "code",
        "outputId": "5fbf0af1-34da-4609-84c9-679c03dff7ce",
        "colab": {
          "base_uri": "https://localhost:8080/",
          "height": 426
        }
      },
      "source": [
        "def simulation(n):\n",
        "  res = [generator() for i in range(n)]\n",
        "  generate_0 = [i for i in res if i == 0]\n",
        "  generate_1 = [i for i in res if i == 1]\n",
        "  \n",
        "  plt.figure(figsize = (10, 6))\n",
        "  plt.hist(res)\n",
        "  plt.title(\"The distribution of the simulated results\", size = 16, color = \"b\")\n",
        "  plt.ylabel(\"Frequency\")\n",
        "  plt.ylabel(\"Frequency\", size = 12)\n",
        "  plt.xlabel(\"Generated values\", size = 12)\n",
        "  plt.xticks([0, 1])\n",
        "  plt.show()\n",
        "  return len(generate_0)/n, len(generate_1)/n\n",
        "simulation(10000)\n",
        "  "
      ],
      "execution_count": 3,
      "outputs": [
        {
          "output_type": "display_data",
          "data": {
            "image/png": "[encoded data removed]",
            "text/plain": [
              "<Figure size 720x432 with 1 Axes>"
            ]
          },
          "metadata": {
            "tags": []
          }
        },
        {
          "output_type": "execute_result",
          "data": {
            "text/plain": [
              "(0.6999, 0.3001)"
            ]
          },
          "metadata": {
            "tags": []
          },
          "execution_count": 3
        }
      ]
    },
    {
      "cell_type": "code",
      "metadata": {
        "id": "tIF6TlL6efor",
        "colab_type": "code",
        "outputId": "ca59deda-7bf8-411a-9886-655c67cfc0bc",
        "colab": {
          "base_uri": "https://localhost:8080/",
          "height": 35
        }
      },
      "source": [
        "def generator_2():\n",
        "  res = [generator() for i in range(2)]\n",
        "  while res == [0, 0] or res == [1, 1]:\n",
        "    res = [generator() for i in range(2)]\n",
        "  if res == [0, 1]:\n",
        "    return 0\n",
        "  elif res == [1, 0]:\n",
        "    return 1\n",
        "  \n",
        "generator_2()    "
      ],
      "execution_count": 4,
      "outputs": [
        {
          "output_type": "execute_result",
          "data": {
            "text/plain": [
              "1"
            ]
          },
          "metadata": {
            "tags": []
          },
          "execution_count": 4
        }
      ]
    },
    {
      "cell_type": "code",
      "metadata": {
        "id": "91BbLSEkeaDx",
        "colab_type": "code",
        "outputId": "b62ca55b-88ad-4175-8eca-1ccbb5eafd6a",
        "colab": {
          "base_uri": "https://localhost:8080/",
          "height": 426
        }
      },
      "source": [
        "def simulation(n):\n",
        "  res = [generator_2() for i in range(n)]\n",
        "  generate_0 = [i for i in res if i == 0]\n",
        "  generate_1 = [i for i in res if i == 1]\n",
        "  \n",
        "  plt.figure(figsize = (10, 6))\n",
        "  plt.hist(res)\n",
        "  plt.title(\"The distribution of the simulated results\", size = 16, color = \"b\")\n",
        "  plt.ylabel(\"Frequency\", size = 12)\n",
        "  plt.xlabel(\"Generated values\", size = 12)\n",
        "  plt.xticks([0, 1])\n",
        "  plt.show()\n",
        "  return len(generate_0)/n, len(generate_1)/n\n",
        "simulation(10000)"
      ],
      "execution_count": 5,
      "outputs": [
        {
          "output_type": "display_data",
          "data": {
            "image/png": "[encoded data removed]",
            "text/plain": [
              "<Figure size 720x432 with 1 Axes>"
            ]
          },
          "metadata": {
            "tags": []
          }
        },
        {
          "output_type": "execute_result",
          "data": {
            "text/plain": [
              "(0.4924, 0.5076)"
            ]
          },
          "metadata": {
            "tags": []
          },
          "execution_count": 5
        }
      ]
    },
    {
      "cell_type": "code",
      "metadata": {
        "id": "1mtttT0WpLkL",
        "colab_type": "code",
        "outputId": "35ff91eb-e542-4bbc-b3bb-fe7a10b896f9",
        "colab": {
          "base_uri": "https://localhost:8080/",
          "height": 155
        }
      },
      "source": [
        "perm = set(permutations([0, 1, 0, 1, 0, 1], 3))\n",
        "for i in list(perm): \n",
        "    print (i) "
      ],
      "execution_count": 6,
      "outputs": [
        {
          "output_type": "stream",
          "text": [
            "(0, 1, 1)\n",
            "(1, 1, 0)\n",
            "(1, 1, 1)\n",
            "(1, 0, 0)\n",
            "(0, 0, 1)\n",
            "(1, 0, 1)\n",
            "(0, 0, 0)\n",
            "(0, 1, 0)\n"
          ],
          "name": "stdout"
        }
      ]
    },
    {
      "cell_type": "code",
      "metadata": {
        "id": "zPZubqfIm4KF",
        "colab_type": "code",
        "outputId": "fded9e3a-e20f-4c10-ff28-f7efa8cbe716",
        "colab": {
          "base_uri": "https://localhost:8080/",
          "height": 35
        }
      },
      "source": [
        "\n",
        "def generator_6():\n",
        "  perm = list(set(permutations([0, 1, 0, 1, 0, 1], 3)))\n",
        "  perm = [list(i) for i in perm]\n",
        "  res = [generator_2() for i in range(3)]\n",
        "  for i in range(len(perm)): \n",
        "    while res == perm[0] or res == perm[1]:\n",
        "      res = [generator() for i in range(3)]\n",
        "    if res == perm[2]:\n",
        "      return 1\n",
        "    elif res == perm[3]:\n",
        "      return 2\n",
        "    elif res == perm[4]:\n",
        "      return 3\n",
        "    elif res == perm[5]:\n",
        "      return 4\n",
        "    elif res == perm[6]:\n",
        "      return 5\n",
        "    elif res == perm[7]:\n",
        "      return 6\n",
        "generator_6()    "
      ],
      "execution_count": 7,
      "outputs": [
        {
          "output_type": "execute_result",
          "data": {
            "text/plain": [
              "4"
            ]
          },
          "metadata": {
            "tags": []
          },
          "execution_count": 7
        }
      ]
    },
    {
      "cell_type": "code",
      "metadata": {
        "id": "ZMK4xWRjnnM3",
        "colab_type": "code",
        "outputId": "b0811653-1d3a-41e6-d8c7-8117c39dab86",
        "colab": {
          "base_uri": "https://localhost:8080/",
          "height": 444
        }
      },
      "source": [
        "def simulation(n):\n",
        "  res = [generator_6() for i in range(n)]\n",
        "  print(len(res))\n",
        "  nums = Counter(res)\n",
        "  generate_1 = [i for i in res if i == 1]\n",
        "  generate_2 = [i for i in res if i == 2]\n",
        "  generate_3 = [i for i in res if i == 3]\n",
        "  generate_4 = [i for i in res if i == 4]\n",
        "  generate_5 = [i for i in res if i == 5]\n",
        "  generate_6 = [i for i in res if i == 6]\n",
        "  \n",
        "  \n",
        "  plt.figure(figsize = (8, 6))\n",
        "  plt.hist(res)\n",
        "  plt.title(\"The distribution of the simulated results\", size = 16, color = \"b\")\n",
        "  plt.ylabel(\"Frequency\", size = 12)\n",
        "  plt.xlabel(\"Generated values\", size = 12)\n",
        "  #plt.xticks(range(1, 8))\n",
        "  plt.show()\n",
        "  return len(generate_1)/n, len(generate_2)/n, len(generate_3)/n, len(generate_4)/n, len(generate_5)/n, len(generate_6)/n\n",
        "simulation(100000)"
      ],
      "execution_count": 8,
      "outputs": [
        {
          "output_type": "stream",
          "text": [
            "100000\n"
          ],
          "name": "stdout"
        },
        {
          "output_type": "display_data",
          "data": {
            "image/png": "[encoded data removed]",
            "text/plain": [
              "<Figure size 576x432 with 1 Axes>"
            ]
          },
          "metadata": {
            "tags": []
          }
        },
        {
          "output_type": "execute_result",
          "data": {
            "text/plain": [
              "(0.13058, 0.16949, 0.16676, 0.1439, 0.2215, 0.16777)"
            ]
          },
          "metadata": {
            "tags": []
          },
          "execution_count": 8
        }
      ]
    },
    {
      "cell_type": "code",
      "metadata": {
        "id": "4fbv4qG1svwO",
        "colab_type": "code",
        "outputId": "95f392a7-ce83-4b02-920e-bb14914872dd",
        "colab": {
          "base_uri": "https://localhost:8080/",
          "height": 409
        }
      },
      "source": [
        "res = random.choices(range(1, 7), k = 100000)\n",
        "plt.figure(figsize = (8, 6))\n",
        "plt.hist(res)\n",
        "plt.title(\"The distribution of the simulated results\", size = 16, color = \"b\")\n",
        "plt.ylabel(\"Frequency\", size = 12)\n",
        "plt.xlabel(\"Generated values\", size = 12)\n",
        "plt.xticks()\n",
        "plt.show()\n"
      ],
      "execution_count": 9,
      "outputs": [
        {
          "output_type": "display_data",
          "data": {
            "image/png": "[encoded data removed]",
            "text/plain": [
              "<Figure size 576x432 with 1 Axes>"
            ]
          },
          "metadata": {
            "tags": []
          }
        }
      ]
    },
    {
      "cell_type": "code",
      "metadata": {
        "id": "j6ydgqbyGObx",
        "colab_type": "code",
        "colab": {}
      },
      "source": [
        ""
      ],
      "execution_count": 0,
      "outputs": []
    }
  ]
}